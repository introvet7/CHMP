{
  "nbformat": 4,
  "nbformat_minor": 0,
  "metadata": {
    "colab": {
      "provenance": [],
      "authorship_tag": "ABX9TyOd8/v6BKCMgzDCK6LA6Ywz",
      "include_colab_link": true
    },
    "kernelspec": {
      "name": "python3",
      "display_name": "Python 3"
    },
    "language_info": {
      "name": "python"
    }
  },
  "cells": [
    {
      "cell_type": "markdown",
      "metadata": {
        "id": "view-in-github",
        "colab_type": "text"
      },
      "source": [
        "<a href=\"https://colab.research.google.com/github/introvet7/CHMP/blob/main/%D0%A7%D0%9C%D0%9F_%D0%9F%D0%A03.ipynb\" target=\"_parent\"><img src=\"https://colab.research.google.com/assets/colab-badge.svg\" alt=\"Open In Colab\"/></a>"
      ]
    },
    {
      "cell_type": "markdown",
      "source": [
        "#Кияшко Ілля Олегович\n",
        "Лабораторна робота №3\n",
        "\n",
        "Варіант 8\n",
        "\n",
        "Група 2-8\n",
        "\n",
        "(Я надіюсь що я просто код роблю це правильно, якщо щось потрібно ще писати в лабораторних, будт ласка напишить в коментарі до роботи, якщо все гаразд нічого не пишіть. Дякую.)\n"
      ],
      "metadata": {
        "id": "9b-BcPotWn5K"
      }
    },
    {
      "cell_type": "code",
      "source": [
        "import sympy as sp\n",
        "\n",
        "# Визначаємо символічну змінну\n",
        "x = sp.symbols('x')\n",
        "\n",
        "# Визначаємо функцію\n",
        "f = x**4 - 12*x**3 - 9\n",
        "\n",
        "# Похідна функції\n",
        "f_prime = sp.diff(f, x)\n",
        "\n",
        "# Перетворення на функції для чисельних обчислень\n",
        "f_numeric = sp.lambdify(x, f)\n",
        "f_prime_numeric = sp.lambdify(x, f_prime)\n",
        "\n",
        "# Метод Ньютона (дотичних)\n",
        "def newton_method(f_numeric, f_prime_numeric, x0, eps, max_iter=100):\n",
        "    x_current = x0\n",
        "    for i in range(max_iter):\n",
        "        f_value = f_numeric(x_current)\n",
        "        f_prime_value = f_prime_numeric(x_current)\n",
        "\n",
        "        if abs(f_value) < eps:\n",
        "            return x_current\n",
        "\n",
        "        x_next = x_current - f_value / f_prime_value\n",
        "\n",
        "        if abs(x_next - x_current) < eps:\n",
        "            return x_next\n",
        "\n",
        "        x_current = x_next\n",
        "\n",
        "    return None\n",
        "\n",
        "# Комбінований метод (хорди та Ньютона)\n",
        "def combined_method(f_numeric, f_prime_numeric, a, b, eps, max_iter=100):\n",
        "    x0 = a\n",
        "    x1 = b\n",
        "\n",
        "    for i in range(max_iter):\n",
        "        f_x0 = f_numeric(x0)\n",
        "        f_x1 = f_numeric(x1)\n",
        "\n",
        "        if abs(f_x1) < eps:\n",
        "            return x1\n",
        "\n",
        "        # Хорда\n",
        "        x2 = x1 - f_x1 * (x1 - x0) / (f_x1 - f_x0)\n",
        "\n",
        "        f_x2 = f_numeric(x2)\n",
        "        if abs(f_x2) < eps:\n",
        "            return x2\n",
        "\n",
        "        # Ньютона\n",
        "        x_next = x2 - f_x2 / f_prime_numeric(x2)\n",
        "\n",
        "        if abs(x_next - x2) < eps:\n",
        "            return x_next\n",
        "\n",
        "        x0 = x1\n",
        "        x1 = x_next\n",
        "\n",
        "    return None\n",
        "\n",
        "# Початкове наближення та інтервал\n",
        "x0 = 10  # Початкове наближення для методу Ньютона\n",
        "a, b = 5, 15  # Інтервал для комбінованого методу\n",
        "eps = 1e-6\n",
        "\n",
        "# Застосування методу Ньютона\n",
        "root_newton = newton_method(f_numeric, f_prime_numeric, x0, eps)\n",
        "print(f\"Корінь методом Ньютона: {root_newton:.6f}\")\n",
        "\n",
        "# Застосування комбінованого методу\n",
        "root_combined = combined_method(f_numeric, f_prime_numeric, a, b, eps)\n",
        "print(f\"Корінь комбінованим методом: {root_combined:.6f}\")\n"
      ],
      "metadata": {
        "colab": {
          "base_uri": "https://localhost:8080/"
        },
        "id": "fL8Tb_lbYG4X",
        "outputId": "67175ba9-8bf8-4373-a3da-8100bb7dfd03"
      },
      "execution_count": 1,
      "outputs": [
        {
          "output_type": "stream",
          "name": "stdout",
          "text": [
            "Корінь методом Ньютона: 12.005202\n",
            "Корінь комбінованим методом: -0.887213\n"
          ]
        }
      ]
    },
    {
      "cell_type": "markdown",
      "source": [
        "#Посилання на GitHub\n",
        "**https://github.com/introvet7**"
      ],
      "metadata": {
        "id": "xVU2xd5RY_dt"
      }
    }
  ]
}