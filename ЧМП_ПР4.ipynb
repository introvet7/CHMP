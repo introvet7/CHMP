{
  "cells": [
    {
      "cell_type": "markdown",
      "metadata": {
        "id": "view-in-github",
        "colab_type": "text"
      },
      "source": [
        "<a href=\"https://colab.research.google.com/github/introvet7/CHMP/blob/main/%D0%A7%D0%9C%D0%9F_%D0%9F%D0%A04.ipynb\" target=\"_parent\"><img src=\"https://colab.research.google.com/assets/colab-badge.svg\" alt=\"Open In Colab\"/></a>"
      ]
    },
    {
      "cell_type": "markdown",
      "source": [
        "#Кияшко Ілля Олегович\n",
        "Лабораторна робота №4\n",
        "\n",
        "Варіант 8\n",
        "\n",
        "Група 2-8\n"
      ],
      "metadata": {
        "id": "I-9-G9XtZl4k"
      },
      "id": "I-9-G9XtZl4k"
    },
    {
      "cell_type": "code",
      "source": [
        "import numpy as np"
      ],
      "metadata": {
        "id": "TwjJNp8ZaMBC"
      },
      "id": "TwjJNp8ZaMBC",
      "execution_count": 2,
      "outputs": []
    },
    {
      "cell_type": "markdown",
      "source": [
        "# Завдання 1: Знайти матрицю С = 𝐴𝐵 − 𝐵𝐴"
      ],
      "metadata": {
        "id": "WKtg4_hKZnGM"
      },
      "id": "WKtg4_hKZnGM"
    },
    {
      "cell_type": "code",
      "execution_count": 15,
      "id": "9656e7ce",
      "metadata": {
        "colab": {
          "base_uri": "https://localhost:8080/"
        },
        "id": "9656e7ce",
        "outputId": "49d89f2d-5176-44b4-b239-67f73f6e960f"
      },
      "outputs": [
        {
          "output_type": "stream",
          "name": "stdout",
          "text": [
            "Матриця C:\n",
            "[[ 4  1  9]\n",
            " [-2 -6  3]\n",
            " [-8 -9  2]]\n"
          ]
        }
      ],
      "source": [
        "import numpy as np\n",
        "\n",
        "A = np.array([[2, 3, 1],\n",
        "              [-1, 1, 0],\n",
        "              [1, 2, -1]])\n",
        "\n",
        "B = np.array([[1, 2, 1],\n",
        "              [0, 1, 2],\n",
        "              [3, 1, 1]])\n",
        "\n",
        "AB = np.dot(A, B)\n",
        "BA = np.dot(B, A)\n",
        "C = AB - BA\n",
        "print(\"Матриця C:\")\n",
        "print(C)\n"
      ]
    },
    {
      "cell_type": "markdown",
      "source": [
        "\n",
        "# Завдання 2: Піднести матриці до степеня"
      ],
      "metadata": {
        "id": "hGUI_CTDZWIf"
      },
      "id": "hGUI_CTDZWIf"
    },
    {
      "cell_type": "code",
      "execution_count": 16,
      "id": "e10dd8dd",
      "metadata": {
        "colab": {
          "base_uri": "https://localhost:8080/"
        },
        "id": "e10dd8dd",
        "outputId": "019e22a2-8db9-407f-ffc5-b8f63ed9c08a"
      },
      "outputs": [
        {
          "output_type": "stream",
          "name": "stdout",
          "text": [
            "Матриця A в квадраті:\n",
            "[[25  0  0  0]\n",
            " [ 0  4  0  0]\n",
            " [ 0  0  9  0]\n",
            " [ 0  0  0  4]]\n"
          ]
        }
      ],
      "source": [
        "import numpy as np\n",
        "\n",
        "A = np.array([[5, 0, 0, 0],\n",
        "              [0, -2, 0, 0],\n",
        "              [0, 0, 3, 0],\n",
        "              [0, 0, 0, 2]])\n",
        "\n",
        "A_squared = np.linalg.matrix_power(A, 2)\n",
        "\n",
        "print(\"Матриця A в квадраті:\")\n",
        "print(A_squared)"
      ]
    },
    {
      "cell_type": "markdown",
      "source": [
        "# Завдання 3: Знайти добуток матриць"
      ],
      "metadata": {
        "id": "tTbOaCodZWY0"
      },
      "id": "tTbOaCodZWY0"
    },
    {
      "cell_type": "code",
      "execution_count": 11,
      "id": "22c93b57",
      "metadata": {
        "colab": {
          "base_uri": "https://localhost:8080/"
        },
        "id": "22c93b57",
        "outputId": "60e240ca-db38-4028-dc0c-f3c035751a05"
      },
      "outputs": [
        {
          "output_type": "stream",
          "name": "stdout",
          "text": [
            "Результат множення матриць E і F:\n",
            "[[-9 13]\n",
            " [15  4]]\n"
          ]
        }
      ],
      "source": [
        "E = np.array([[3, 5],\n",
        "              [6, -1]])\n",
        "\n",
        "F = np.array([[2, 1],\n",
        "              [-3, 2]])\n",
        "\n",
        "product = np.dot(E, F)\n",
        "\n",
        "print(\"Результат множення матриць E і F:\")\n",
        "print(product)\n"
      ]
    },
    {
      "cell_type": "markdown",
      "source": [
        "# Завдання 4: Обчислити визначники"
      ],
      "metadata": {
        "id": "Uj8M5RbTZWQy"
      },
      "id": "Uj8M5RbTZWQy"
    },
    {
      "cell_type": "code",
      "execution_count": 17,
      "id": "8a599028",
      "metadata": {
        "colab": {
          "base_uri": "https://localhost:8080/"
        },
        "id": "8a599028",
        "outputId": "63b73972-dd2a-4b54-ef4b-c3311072aac1"
      },
      "outputs": [
        {
          "output_type": "stream",
          "name": "stdout",
          "text": [
            "Визначник матриці : 35.00000000000001\n"
          ]
        }
      ],
      "source": [
        "import numpy as np\n",
        "\n",
        "A = np.array([[2, 3, 4],\n",
        "              [1, 0, 6],\n",
        "              [7, 8, 9]])\n",
        "\n",
        "determinant = np.linalg.det(A)\n",
        "\n",
        "print(\"Визначник матриці :\", determinant)"
      ]
    },
    {
      "cell_type": "markdown",
      "source": [
        "\n",
        "# Завдання 5: Обчислення визначника матриці\n"
      ],
      "metadata": {
        "id": "aTB0bl72ZTza"
      },
      "id": "aTB0bl72ZTza"
    },
    {
      "cell_type": "code",
      "execution_count": 9,
      "id": "2792da4d",
      "metadata": {
        "colab": {
          "base_uri": "https://localhost:8080/"
        },
        "id": "2792da4d",
        "outputId": "077006eb-3739-4ac7-a87e-64cadbed3c80"
      },
      "outputs": [
        {
          "output_type": "stream",
          "name": "stdout",
          "text": [
            "Визначник матриці B:\n",
            "900.0000000000009\n"
          ]
        }
      ],
      "source": [
        "B = np.array([[1, 2, 3, 4],\n",
        "              [-2, 1, -4, 3],\n",
        "              [3, -4, -1, 2],\n",
        "              [4, 3, -2, -1]])\n",
        "\n",
        "determinant = np.linalg.det(B)\n",
        "\n",
        "print(\"Визначник матриці B:\")\n",
        "print(determinant)\n"
      ]
    },
    {
      "cell_type": "markdown",
      "source": [
        "# Завдання 6: Знаходження оберненої матриці\n"
      ],
      "metadata": {
        "id": "MEgWMvX2ZV_Z"
      },
      "id": "MEgWMvX2ZV_Z"
    },
    {
      "cell_type": "code",
      "execution_count": 8,
      "id": "2f45bbae",
      "metadata": {
        "colab": {
          "base_uri": "https://localhost:8080/"
        },
        "id": "2f45bbae",
        "outputId": "20529d13-1aee-4238-870c-8e56336dd335"
      },
      "outputs": [
        {
          "output_type": "stream",
          "name": "stdout",
          "text": [
            "Обернена матриця C:\n",
            "[[ 1. -2.  7.]\n",
            " [ 0.  1. -2.]\n",
            " [ 0.  0.  1.]]\n"
          ]
        }
      ],
      "source": [
        "C = np.array([[1, 2, -3],\n",
        "              [0, 1, 2],\n",
        "              [0, 0, 1]])\n",
        "\n",
        "inverse_C = np.linalg.inv(C)\n",
        "\n",
        "print(\"Обернена матриця C:\")\n",
        "print(inverse_C)\n"
      ]
    },
    {
      "cell_type": "markdown",
      "source": [
        "\n",
        "# Завдання 7: Обчислення рангу матриці"
      ],
      "metadata": {
        "id": "kdTK2urMZWf5"
      },
      "id": "kdTK2urMZWf5"
    },
    {
      "cell_type": "code",
      "execution_count": 6,
      "id": "3ee1416c",
      "metadata": {
        "colab": {
          "base_uri": "https://localhost:8080/"
        },
        "id": "3ee1416c",
        "outputId": "679f412b-feb1-4e35-c518-4d3f6a9eec62"
      },
      "outputs": [
        {
          "output_type": "stream",
          "name": "stdout",
          "text": [
            "Ранг матриці G:\n",
            "2\n"
          ]
        }
      ],
      "source": [
        "G = np.array([[1, 2, 3, 4],\n",
        "              [3, -1, 2, 5],\n",
        "              [1, 2, 3, 4],\n",
        "              [1, 3, 4, 5]])\n",
        "\n",
        "rank_G = np.linalg.matrix_rank(G)\n",
        "\n",
        "print(\"Ранг матриці G:\")\n",
        "print(rank_G)\n"
      ]
    },
    {
      "cell_type": "markdown",
      "source": [
        "# Завдання 8: Розв'язання систему лінійних рівнянь, матричним методом (тобто обчислити обернену матрицю) і м. Гауса методом Гаусса\n"
      ],
      "metadata": {
        "id": "NmVEZItBZXYa"
      },
      "id": "NmVEZItBZXYa"
    },
    {
      "cell_type": "code",
      "execution_count": 10,
      "id": "2173d353",
      "metadata": {
        "colab": {
          "base_uri": "https://localhost:8080/"
        },
        "id": "2173d353",
        "outputId": "c55cbcce-7c9a-4c90-8202-f07cddfdf16e"
      },
      "outputs": [
        {
          "output_type": "stream",
          "name": "stdout",
          "text": [
            "Матричний метод: [ 1. -1.  2.]\n",
            "Метод Крамера: [1.0, -1.0, 2.0]\n",
            "Метод Гауса: [ 1. -1.  2.]\n"
          ]
        }
      ],
      "source": [
        "import numpy as np\n",
        "\n",
        "# Матричний метод\n",
        "def matrix_method(coefficients, constants):\n",
        "    inverse_matrix = np.linalg.inv(coefficients)\n",
        "    return np.dot(inverse_matrix, constants)\n",
        "\n",
        "# Метод Крамера\n",
        "def cramer_method(coefficients, constants):\n",
        "    det_coefficients = np.linalg.det(coefficients)\n",
        "    solutions = []\n",
        "    for i in range(len(coefficients)):\n",
        "        modified_coefficients = np.copy(coefficients)\n",
        "        modified_coefficients[:, i] = constants\n",
        "        solutions.append(round(np.linalg.det(modified_coefficients) / det_coefficients, 1))  # Округлюємо до десятих\n",
        "    return solutions\n",
        "\n",
        "# Метод Гауса\n",
        "def gauss_method(a, b):\n",
        "    n = len(b)\n",
        "\n",
        "    for k in range(0, n-1):\n",
        "        for i in range(k+1, n):\n",
        "            if a[i, k] != 0.0:\n",
        "                lam = a[i, k] / a[k, k]\n",
        "                a[i, k+1:n] = a[i, k+1:n] - lam * a[k, k+1:n]\n",
        "                b[i] = b[i] - lam * b[k]\n",
        "\n",
        "    x = np.zeros(n)\n",
        "    for k in range(n-1, -1, -1):\n",
        "        x[k] = (b[k] - np.dot(a[k, k+1:n], x[k+1:n])) / a[k, k]\n",
        "\n",
        "    return x\n",
        "\n",
        "def main():\n",
        "    # Матриця A і вектор B для розв'язку системи рівнянь Ax = B\n",
        "    a = np.array([[1.0, 2.0, -1.0],\n",
        "                  [3.0, 4.0, 1.0],\n",
        "                  [5.0, 1.0, -3.0]])\n",
        "\n",
        "    b = np.array([-3.0, 1.0, -2.0])\n",
        "\n",
        "    # Матричний метод\n",
        "    x_matrix = matrix_method(a, b)\n",
        "    print(\"Матричний метод:\", x_matrix)\n",
        "\n",
        "    # Метод Крамера\n",
        "    x_cramer = cramer_method(a, b)\n",
        "    print(\"Метод Крамера:\", x_cramer)\n",
        "\n",
        "    # Метод Гауса\n",
        "    x_gauss = gauss_method(a, b)\n",
        "    print(\"Метод Гауса:\", x_gauss)\n",
        "\n",
        "if __name__ == \"__main__\":\n",
        "    main()\n"
      ]
    },
    {
      "cell_type": "markdown",
      "source": [
        "# Завдання 8: Розв’язати 1 завдання з наведених нижче.\n",
        "\n",
        "№4\n",
        "\n",
        "Створіть прямокутну матрицю A, яка має N рядків і M стовпців з випадковими елементами. Знайдіть суму елементів всієї матриці. Визначте, яку долю в цій сумі складає сума елементів кожного стовпця."
      ],
      "metadata": {
        "id": "JPvmPBdRh545"
      },
      "id": "JPvmPBdRh545"
    },
    {
      "cell_type": "code",
      "source": [
        "import numpy as np\n",
        "\n",
        "# Введіть розміри матриці N x M\n",
        "N = 5\n",
        "M = 4\n",
        "\n",
        "# Створення матриці A з випадковими цілими числами від -10 до 10\n",
        "A = np.random.randint(-10, 11, (N, M))\n",
        "\n",
        "# Знаходження суми всіх елементів матриці\n",
        "total_sum = np.sum(A)\n",
        "\n",
        "# Знаходження суми елементів у кожному стовпці\n",
        "column_sums = np.sum(A, axis=0)\n",
        "\n",
        "# Визначення частки суми елементів кожного стовпця від загальної суми\n",
        "column_ratios = column_sums / total_sum\n",
        "\n",
        "print(\"Матриця A:\")\n",
        "print(A)\n",
        "print(\"\\nСума всіх елементів матриці:\", total_sum)\n",
        "print(\"\\nСуми елементів у кожному стовпці:\", column_sums)\n",
        "print(\"\\nЧастка суми елементів кожного стовпця від загальної суми:\")\n",
        "print(column_ratios)\n"
      ],
      "metadata": {
        "colab": {
          "base_uri": "https://localhost:8080/"
        },
        "id": "MQYAOAJZh6sd",
        "outputId": "a09038e6-ecb8-49eb-bd7b-c783c3e71bac"
      },
      "id": "MQYAOAJZh6sd",
      "execution_count": 18,
      "outputs": [
        {
          "output_type": "stream",
          "name": "stdout",
          "text": [
            "Матриця A:\n",
            "[[  5   7  -1   0]\n",
            " [  3  -7 -10   1]\n",
            " [ -9  -5   2   1]\n",
            " [ -5  -3  -7   0]\n",
            " [ -9  -6  -4  -1]]\n",
            "\n",
            "Сума всіх елементів матриці: -48\n",
            "\n",
            "Суми елементів у кожному стовпці: [-15 -14 -20   1]\n",
            "\n",
            "Частка суми елементів кожного стовпця від загальної суми:\n",
            "[ 0.3125      0.29166667  0.41666667 -0.02083333]\n"
          ]
        }
      ]
    }
  ],
  "metadata": {
    "colab": {
      "provenance": [],
      "include_colab_link": true
    },
    "language_info": {
      "name": "python"
    },
    "kernelspec": {
      "name": "python3",
      "display_name": "Python 3"
    }
  },
  "nbformat": 4,
  "nbformat_minor": 5
}