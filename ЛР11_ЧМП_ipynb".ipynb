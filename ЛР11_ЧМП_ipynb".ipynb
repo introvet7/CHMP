{
  "nbformat": 4,
  "nbformat_minor": 0,
  "metadata": {
    "colab": {
      "provenance": [],
      "include_colab_link": true
    },
    "kernelspec": {
      "name": "python3",
      "display_name": "Python 3"
    },
    "language_info": {
      "name": "python"
    }
  },
  "cells": [
    {
      "cell_type": "markdown",
      "metadata": {
        "id": "view-in-github",
        "colab_type": "text"
      },
      "source": [
        "<a href=\"https://colab.research.google.com/github/introvet7/CHMP/blob/main/%D0%9B%D0%A011_%D0%A7%D0%9C%D0%9F_ipynb%22.ipynb\" target=\"_parent\"><img src=\"https://colab.research.google.com/assets/colab-badge.svg\" alt=\"Open In Colab\"/></a>"
      ]
    },
    {
      "cell_type": "markdown",
      "source": [
        "#Кияшко Ілля Олегович\n",
        "Лабораторна робота №12\n",
        "\n",
        "Варіант 8\n",
        "\n",
        "Група 2-8\n"
      ],
      "metadata": {
        "id": "ICfM_XQFn5pa"
      }
    },
    {
      "cell_type": "markdown",
      "source": [
        "Завдання 1.\n",
        "\n",
        "Метод прямокутників (правих, лівих і середніх)"
      ],
      "metadata": {
        "id": "fKQyEy3uv2VX"
      }
    },
    {
      "cell_type": "code",
      "source": [
        "#Обчислення інтеграла методом прямокутників\n",
        "from scipy import integrate\n",
        "import numpy as np\n",
        "\n",
        "a = 0.4\n",
        "b = 1.2\n",
        "def f1(x):\n",
        "    return 1 / np.sqrt(x + 0.5)\n",
        "\n",
        "def left_rec(f1,a,b,n):\n",
        "    h=(b-a)/n\n",
        "    sum=0\n",
        "    for i in range(0,n):\n",
        "        sum+=f1(a+i*h)\n",
        "    return sum*h\n",
        "print(\"left rectangle:\",round (left_rec(f1,a,b,10), 5))\n",
        "\n",
        "def right_rec(f1,a,b,n):\n",
        "    h=(b-a)/n\n",
        "    sum=0\n",
        "    for i in range(1,n+1):\n",
        "        sum+=f1(a+i*h)\n",
        "    return sum*h\n",
        "print(\"right rectangle:\",round (right_rec(f1,a,b,10), 5))\n",
        "\n",
        "def aver_rec(f1,a,b,n):\n",
        "    h=0.08\n",
        "    sum=0\n",
        "    for i in range(0,n):\n",
        "        sum+=f1(a+i*h)\n",
        "    return sum*h\n",
        "print(\"average rectangle:\",round (aver_rec(f1,a,b,10), 5))\n",
        "\n",
        "v,err = integrate.quad(f1,a,b)#Перевірка\n",
        "print(\"Check for the rectangle method= \",round (v, 5))\n"
      ],
      "metadata": {
        "colab": {
          "base_uri": "https://localhost:8080/"
        },
        "id": "jzRa6rb3v1Mu",
        "outputId": "fe0fd0b4-f2f7-4891-fe87-d5e18a437bbe"
      },
      "execution_count": 20,
      "outputs": [
        {
          "output_type": "stream",
          "name": "stdout",
          "text": [
            "left rectangle: 0.72199\n",
            "right rectangle: 0.69902\n",
            "average rectangle: 0.72199\n",
            "Check for the rectangle method=  0.71031\n"
          ]
        }
      ]
    },
    {
      "cell_type": "markdown",
      "source": [
        "Завдання 2.\n",
        "\n",
        "Метод Симпсона"
      ],
      "metadata": {
        "id": "r9xzRufQxFRO"
      }
    },
    {
      "cell_type": "code",
      "source": [
        "#Обчислення інтеграла методом Симпсона\n",
        "from scipy import integrate\n",
        "import numpy as np\n",
        "\n",
        "# Задаємо функцію, яку необхідно інтегрувати\n",
        "def f(x):\n",
        "    return np.cos(x)/(x+2)\n",
        "\n",
        "# Задаємо межі інтегрування та початкову кількість розбиттів\n",
        "a = 0.4\n",
        "b = 1.2\n",
        "n = 8\n",
        "\n",
        "# Обчислюємо значення інтегралу методом Симпсона\n",
        "def simpson_rule(f, a, b, n):\n",
        "    h = (b - a) / n\n",
        "    integr = f(a) + f(b)\n",
        "    for i in range(1,n):\n",
        "        k = a + i*h\n",
        "        if i%2 == 0:\n",
        "            integr += 2 * f(k)\n",
        "        else:\n",
        "            integr += 4 * f(k)\n",
        "    integr *= h/3\n",
        "    return integr\n",
        "\n",
        "\n",
        "# Виводимо результат\n",
        "print(\"Simpsone method:\", round(simpson_rule(f, a, b, n), 3))\n",
        "\n",
        "v,err = integrate.quad(f,a,b)#Перевірка\n",
        "print(\"Check for the simpsone method= \",round(v, 3))\n"
      ],
      "metadata": {
        "colab": {
          "base_uri": "https://localhost:8080/"
        },
        "id": "FnvcjErXwrQy",
        "outputId": "a3c54767-335b-4bc1-bde5-ae57f72b6f60"
      },
      "execution_count": 21,
      "outputs": [
        {
          "output_type": "stream",
          "name": "stdout",
          "text": [
            "Simpsone method: 0.199\n",
            "Check for the simpsone method=  0.199\n"
          ]
        }
      ]
    },
    {
      "cell_type": "markdown",
      "source": [
        "Завдання 3.\n",
        "\n",
        "Визначити інтеграм методом трапецій"
      ],
      "metadata": {
        "id": "bkVnaWJ6vO8h"
      }
    },
    {
      "cell_type": "code",
      "source": [
        "#Обчислення інтегралу методом трапецій\n",
        "\n",
        "from scipy import integrate\n",
        "\n",
        "# Задаємо функцію, яку необхідно інтегрувати\n",
        "def f(x):\n",
        "    return 1 / np.sqrt(x**2 - 3)\n",
        "\n",
        "# Задаємо межі інтегрування та початкову кількість розбиттів\n",
        "a = 2.1\n",
        "b = 3.6\n",
        "n = 10\n",
        "\n",
        "# Обчислюємо значення інтегралу методом трапецій\n",
        "def trapezoidal_rule(f, a, b, n):\n",
        "    h = (b - a) / n\n",
        "    sum = 0.5 * (f(a) + f(b))\n",
        "    x = a\n",
        "\n",
        "    for i in range(1, n):\n",
        "        x += h\n",
        "        sum += f(x)\n",
        "\n",
        "    integral = h * sum\n",
        "\n",
        "    return integral\n",
        "\n",
        "# Виводимо результат методу трапецій\n",
        "integral = trapezoidal_rule(f, a, b, n)\n",
        "print(\"Trapetzia method result:\", round(integral, 5))\n",
        "\n",
        "# Перевірка за допомогою вбудованої функції\n",
        "v, err = integrate.quad(f, a, b)\n",
        "print(\"Check with SciPy quad method:\", round(v, 5))"
      ],
      "metadata": {
        "colab": {
          "base_uri": "https://localhost:8080/"
        },
        "id": "scjZgZaGxOW5",
        "outputId": "ec78113e-b955-40bd-8504-dd4a8ad43930"
      },
      "execution_count": 19,
      "outputs": [
        {
          "output_type": "stream",
          "name": "stdout",
          "text": [
            "Trapetzia method result: 0.72243\n",
            "Check with SciPy quad method: 0.72032\n"
          ]
        }
      ]
    },
    {
      "cell_type": "markdown",
      "source": [
        "#[Посилання на GitHub](https://github.com/introvet7/CHMP)\n"
      ],
      "metadata": {
        "id": "xoQ_F5wmJww7"
      }
    }
  ]
}