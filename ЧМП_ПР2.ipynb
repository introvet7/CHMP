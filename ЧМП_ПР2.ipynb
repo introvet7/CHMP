{
  "nbformat": 4,
  "nbformat_minor": 0,
  "metadata": {
    "colab": {
      "provenance": [],
      "authorship_tag": "ABX9TyNjzYo6Fzmoc0zFgMk9KyUT",
      "include_colab_link": true
    },
    "kernelspec": {
      "name": "python3",
      "display_name": "Python 3"
    },
    "language_info": {
      "name": "python"
    }
  },
  "cells": [
    {
      "cell_type": "markdown",
      "metadata": {
        "id": "view-in-github",
        "colab_type": "text"
      },
      "source": [
        "<a href=\"https://colab.research.google.com/github/introvet7/CHMP/blob/main/%D0%A7%D0%9C%D0%9F_%D0%9F%D0%A02.ipynb\" target=\"_parent\"><img src=\"https://colab.research.google.com/assets/colab-badge.svg\" alt=\"Open In Colab\"/></a>"
      ]
    },
    {
      "cell_type": "markdown",
      "source": [
        "#Кияшко Ілля Олегович\n",
        "Лабораторна робота №2\n",
        "\n",
        "Варіант 8\n",
        "\n",
        "Група 2-8\n"
      ],
      "metadata": {
        "id": "9b-BcPotWn5K"
      }
    },
    {
      "cell_type": "code",
      "source": [
        "import numpy as np\n",
        "\n",
        "# Визначаємо функцію\n",
        "def f(x):\n",
        "    return x**4 - 12*x**3 - 9\n",
        "\n",
        "# Метод половинного ділення\n",
        "def bisection_method(a, b, eps):\n",
        "    if f(a) * f(b) >= 0:\n",
        "        print(\"Метод половинного ділення не може бути застосований на цьому проміжку.\")\n",
        "        return None\n",
        "\n",
        "    c = a\n",
        "    while (b-a) >= eps:\n",
        "        # Знаходимо середню точку\n",
        "        c = (a+b)/2\n",
        "\n",
        "        # Перевіряємо, чи є середня точка коренем\n",
        "        if f(c) == 0.0:\n",
        "            break\n",
        "\n",
        "        # Визначаємо, в якій половині знаходиться корінь\n",
        "        if f(c)*f(a) < 0:\n",
        "            b = c\n",
        "        else:\n",
        "            a = c\n",
        "\n",
        "    # Повертаємо корінь\n",
        "    return c\n",
        "\n",
        "# Метод хорд\n",
        "def chord_method(a, b, eps):\n",
        "    if f(a) * f(b) >= 0:\n",
        "        print(\"Метод хорд не може бути застосований на цьому проміжку.\")\n",
        "        return None\n",
        "\n",
        "    x0 = a if f(a) * derivative(a) > 0 else b\n",
        "    x1 = b if x0 == a else a\n",
        "\n",
        "    while abs(x1 - x0) >= eps:\n",
        "        x0, x1 = x1, x1 - (f(x1) * (x1 - x0)) / (f(x1) - f(x0))\n",
        "\n",
        "    return x1\n",
        "\n",
        "def derivative(x):\n",
        "    return 4*x**3 - 36*x**2\n",
        "\n",
        "# Викликаємо методи для заданого проміжку\n",
        "a = 0\n",
        "b = 3\n",
        "eps = 0.0001\n",
        "\n",
        "root_bisection = bisection_method(a, b, eps)\n",
        "if root_bisection is not None:\n",
        "    print(f\"Корінь методом половинного ділення: {root_bisection:.5f}\")\n",
        "else:\n",
        "    print(\"Корінь не знайдено методом половинного ділення.\")\n",
        "\n",
        "root_chord = chord_method(a, b, eps)\n",
        "if root_chord is not None:\n",
        "    print(f\"Корінь методом хорд: {root_chord:.5f}\")\n",
        "else:\n",
        "    print(\"Корінь не знайдено методом хорд.\")\n"
      ],
      "metadata": {
        "colab": {
          "base_uri": "https://localhost:8080/"
        },
        "id": "fL8Tb_lbYG4X",
        "outputId": "5868d191-6947-461a-c4c3-529e0e472fda"
      },
      "execution_count": null,
      "outputs": [
        {
          "output_type": "stream",
          "name": "stdout",
          "text": [
            "Метод половинного ділення не може бути застосований на цьому проміжку.\n",
            "Корінь не знайдено методом половинного ділення.\n",
            "Метод хорд не може бути застосований на цьому проміжку.\n",
            "Корінь не знайдено методом хорд.\n"
          ]
        }
      ]
    },
    {
      "cell_type": "markdown",
      "source": [
        "#Посилання на GitHub\n",
        "**https://github.com/introvet7**"
      ],
      "metadata": {
        "id": "xVU2xd5RY_dt"
      }
    }
  ]
}